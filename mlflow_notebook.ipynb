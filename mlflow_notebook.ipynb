{
 "cells": [
  {
   "cell_type": "code",
   "execution_count": 1,
   "id": "898976df-639e-48c0-a20b-a70d2a3a8b82",
   "metadata": {},
   "outputs": [],
   "source": [
    "import mlflow\n",
    "import os\n",
    "import sqlalchemy\n",
    "\n",
    "from high_revenue_predictor import HighRevenuePredictor"
   ]
  },
  {
   "cell_type": "code",
   "execution_count": 2,
   "id": "b195aa26-ff5a-450f-922a-c26b17c806bf",
   "metadata": {},
   "outputs": [],
   "source": [
    "mlflow.set_tracking_uri(\"http://localhost:5000\")"
   ]
  },
  {
   "cell_type": "code",
   "execution_count": 3,
   "id": "dd0d7660-a1ee-4e7f-a32d-ebb62ecc3761",
   "metadata": {},
   "outputs": [
    {
     "name": "stderr",
     "output_type": "stream",
     "text": [
      "2022/04/22 19:35:27 INFO mlflow.tracking.fluent: Experiment with name 'Revenue Predictor' does not exist. Creating a new experiment.\n"
     ]
    },
    {
     "data": {
      "text/plain": [
       "<Experiment: artifact_location='wasbs://mlflow-model-registry@mneusadevdaamlmdl001.blob.core.windows.net/artifacts/1', experiment_id='1', lifecycle_stage='active', name='Revenue Predictor', tags={}>"
      ]
     },
     "execution_count": 3,
     "metadata": {},
     "output_type": "execute_result"
    }
   ],
   "source": [
    "mlflow.set_experiment(\"Revenue Predictor\")"
   ]
  },
  {
   "cell_type": "code",
   "execution_count": 4,
   "id": "9400373e-9923-4211-be98-80057e4d99d5",
   "metadata": {},
   "outputs": [],
   "source": [
    "registered_model_name = \"high_revenue_predictor\""
   ]
  },
  {
   "cell_type": "code",
   "execution_count": 5,
   "id": "69579127-b712-42d0-aa39-a0fccc79189b",
   "metadata": {},
   "outputs": [],
   "source": [
    "artifacts = {\"high_revenue_predictor\" : \"./model/high-revenue-prediction.pmml\"}"
   ]
  },
  {
   "cell_type": "code",
   "execution_count": null,
   "id": "bd335e2c-8d33-42d4-a01e-2f7c889c123f",
   "metadata": {},
   "outputs": [
    {
     "name": "stderr",
     "output_type": "stream",
     "text": [
      "DefaultAzureCredential failed to retrieve a token from the included credentials.\n",
      "Attempted credentials:\n",
      "\tEnvironmentCredential: EnvironmentCredential authentication unavailable. Environment variables are not fully configured.\n",
      "Visit https://aka.ms/azsdk/python/identity/environmentcredential/troubleshoot to troubleshoot.this issue.\n",
      "\tManagedIdentityCredential: ManagedIdentityCredential authentication unavailable, no response from the IMDS endpoint.\n",
      "\tSharedTokenCacheCredential: Azure Active Directory error '(invalid_grant) AADSTS700082: The refresh token has expired due to inactivity. The token was issued on 2021-10-19T15:20:07.1707451Z and was inactive for 90.00:00:00.\n",
      "Trace ID: c663edd9-3e2b-48ed-a219-677a3df00d00\n",
      "Correlation ID: 13302480-bcb5-465c-b107-8090a22a79b9\n",
      "Timestamp: 2022-04-22 18:35:48Z'\n",
      "Content: {\"error\":\"invalid_grant\",\"error_description\":\"AADSTS700082: The refresh token has expired due to inactivity. The token was issued on 2021-10-19T15:20:07.1707451Z and was inactive for 90.00:00:00.\\r\\nTrace ID: c663edd9-3e2b-48ed-a219-677a3df00d00\\r\\nCorrelation ID: 13302480-bcb5-465c-b107-8090a22a79b9\\r\\nTimestamp: 2022-04-22 18:35:48Z\",\"error_codes\":[700082],\"timestamp\":\"2022-04-22 18:35:48Z\",\"trace_id\":\"c663edd9-3e2b-48ed-a219-677a3df00d00\",\"correlation_id\":\"13302480-bcb5-465c-b107-8090a22a79b9\",\"error_uri\":\"https://login.microsoftonline.com/error?code=700082\"}\n",
      "To mitigate this issue, please refer to the troubleshooting guidelines here at https://aka.ms/azsdk/python/identity/defaultazurecredential/troubleshoot.\n"
     ]
    }
   ],
   "source": [
    "with mlflow.start_run():\n",
    "    mlflow.log_param(\"type\", \"random_forest\")\n",
    "    mlflow.log_param(\"trees\", \"100\")\n",
    "    mlflow.log_param(\"min_samples\", \"1\")\n",
    "    mlflow.log_metric(\"accuracy\", 0.767)\n",
    "    mlflow.log_artifact(\"./data/Orders_by_customer.csv\")\n",
    "    mlflow.log_artifact(\"./model/high-revenue-prediction.pmml\")\n",
    "    # registered_model_name registers model to registry\n",
    "    mlflow.pyfunc.log_model(\"model\", python_model=HighRevenuePredictor(), artifacts=artifacts, pip_requirements=\"requirements.txt\", \n",
    "                            registered_model_name=registered_model_name)"
   ]
  },
  {
   "cell_type": "markdown",
   "id": "3783233f-c97d-4da7-9455-702d5291a154",
   "metadata": {},
   "source": [
    "### Transition Model into Staging"
   ]
  },
  {
   "cell_type": "code",
   "execution_count": null,
   "id": "82045e82-5eca-4ad6-8e18-214c932a5419",
   "metadata": {},
   "outputs": [],
   "source": [
    "client = mlflow.tracking.MlflowClient()\n",
    "client.transition_model_version_stage(name=registered_model_name, version=1, stage=\"Staging\")"
   ]
  },
  {
   "cell_type": "markdown",
   "id": "f0df5d9a-ddfd-4ff3-90ea-b3887d912c26",
   "metadata": {},
   "source": [
    "### Registering Model with Tags"
   ]
  },
  {
   "cell_type": "code",
   "execution_count": null,
   "id": "e7f0339e-2629-4ec0-aa34-3f353f7ad1e0",
   "metadata": {},
   "outputs": [],
   "source": [
    "client = mlflow.tracking.MlflowClient()"
   ]
  },
  {
   "cell_type": "code",
   "execution_count": null,
   "id": "f501641b-f58c-466a-b840-183d81127551",
   "metadata": {},
   "outputs": [],
   "source": [
    "tags = {\n",
    "    \"type\" : \"random_forest\",\n",
    "    \"trees\" : \"100\",\n",
    "    \"min_samples\" : \"1\",\n",
    "    \"accuracy\" : 0.767\n",
    "}"
   ]
  },
  {
   "cell_type": "code",
   "execution_count": null,
   "id": "5cf1ae7d-60d0-467b-879d-36e622a4a9f6",
   "metadata": {},
   "outputs": [],
   "source": [
    "model_description = \"Binary classifier used to predict whether a customer will be a high revenue customer or not.\""
   ]
  },
  {
   "cell_type": "code",
   "execution_count": null,
   "id": "c5b18b5e-3a9d-45e2-8ba2-f93c4298b324",
   "metadata": {},
   "outputs": [],
   "source": [
    "registered_model_name_client = \"high_revenue_predictor_mlflow_client\""
   ]
  },
  {
   "cell_type": "code",
   "execution_count": null,
   "id": "8d026da9-5187-4178-9e8d-c641abe27302",
   "metadata": {},
   "outputs": [],
   "source": [
    "# client.create_registered_model(name=registered_model_name_client, tags=tags, description=model_description)"
   ]
  },
  {
   "cell_type": "code",
   "execution_count": null,
   "id": "2402ed36-dd8d-43e7-a465-aa9a37a63179",
   "metadata": {},
   "outputs": [],
   "source": [
    "with mlflow.start_run():\n",
    "    mlflow.log_param(\"type\", \"random_forest\")\n",
    "    mlflow.log_param(\"trees\", \"100\")\n",
    "    mlflow.log_param(\"min_samples\", \"1\")\n",
    "    mlflow.log_metric(\"accuracy\", 0.767)\n",
    "    mlflow.log_artifact(\"./data/Orders_by_customer.csv\")\n",
    "    mlflow.log_artifact(\"./model/high-revenue-prediction.pmml\")\n",
    "    # registered_model_name registers model to registry\n",
    "    # Note that registering the model this way does not give the option to add tags or description\n",
    "    mlflow.pyfunc.log_model(\"model\", python_model=HighRevenuePredictor(), artifacts=artifacts, pip_requirements=\"requirements.txt\", \n",
    "                            registered_model_name=registered_model_name_client)"
   ]
  },
  {
   "cell_type": "code",
   "execution_count": null,
   "id": "685decfd-c8c0-4f30-9ebd-0ea2b23378e7",
   "metadata": {},
   "outputs": [],
   "source": [
    "client.create_model_version(name=registered_model_name_client, source=\"./model/high-revenue-prediction.pmml\", tags=tags, description=model_description)"
   ]
  },
  {
   "cell_type": "code",
   "execution_count": null,
   "id": "53701307-3ea3-4ae8-af07-c1134efb11f0",
   "metadata": {},
   "outputs": [],
   "source": [
    "client.transition_model_version_stage(name=registered_model_name_client, version=2, stage=\"Production\")"
   ]
  },
  {
   "cell_type": "markdown",
   "id": "7064a301-1943-4f9e-aa02-d4099cfd05ef",
   "metadata": {},
   "source": [
    "### Revenue Predictor Azure Blob"
   ]
  },
  {
   "cell_type": "code",
   "execution_count": null,
   "id": "f0e721a2-5bda-406e-891e-665e872adbe8",
   "metadata": {},
   "outputs": [],
   "source": [
    "mlflow.set_experiment(\"Revenue Predictor Azure Blob\")"
   ]
  },
  {
   "cell_type": "code",
   "execution_count": null,
   "id": "6db7ed3a-749c-4bbc-b689-4e2cb4947eb1",
   "metadata": {},
   "outputs": [],
   "source": [
    "client = mlflow.tracking.MlflowClient()"
   ]
  },
  {
   "cell_type": "code",
   "execution_count": null,
   "id": "413326d5-ae21-469a-b5d9-726838742b45",
   "metadata": {},
   "outputs": [],
   "source": [
    "tags = {\n",
    "    \"type\" : \"random_forest\",\n",
    "    \"trees\" : \"100\",\n",
    "    \"min_samples\" : \"1\",\n",
    "    \"accuracy\" : 0.767\n",
    "}"
   ]
  },
  {
   "cell_type": "code",
   "execution_count": null,
   "id": "3a42c516-7278-42e4-be52-60b021c4dfe2",
   "metadata": {},
   "outputs": [],
   "source": [
    "model_description = \"Binary classifier used to predict whether a customer will be a high revenue customer or not.\""
   ]
  },
  {
   "cell_type": "code",
   "execution_count": null,
   "id": "8e6fd968-568c-4f6a-9947-303e18f27911",
   "metadata": {},
   "outputs": [],
   "source": [
    "with mlflow.start_run():\n",
    "    mlflow.log_param(\"type\", \"random_forest\")\n",
    "    mlflow.log_param(\"trees\", \"100\")\n",
    "    mlflow.log_param(\"min_samples\", \"1\")\n",
    "    mlflow.log_metric(\"accuracy\", 0.767)\n",
    "    mlflow.log_artifact(\"./data/Orders_by_customer.csv\")\n",
    "    mlflow.log_artifact(\"./model/high-revenue-prediction.pmml\")\n",
    "    # registered_model_name registers model to registry\n",
    "    # Note that registering the model this way does not give the option to add tags or description\n",
    "    mlflow.pyfunc.log_model(\"model\", python_model=HighRevenuePredictor(), artifacts=artifacts, pip_requirements=\"requirements.txt\", \n",
    "                            registered_model_name=\"high_revenue_predictor\")"
   ]
  },
  {
   "cell_type": "markdown",
   "id": "21fbf356-266f-45d7-a53d-72dbf5b95cf3",
   "metadata": {},
   "source": [
    "### Revenue Predictor Azure Blob + Azure PostgreSQL"
   ]
  },
  {
   "cell_type": "code",
   "execution_count": null,
   "id": "1aa274a6-bde5-44fa-a6c4-12cdd7207afb",
   "metadata": {},
   "outputs": [],
   "source": []
  }
 ],
 "metadata": {
  "kernelspec": {
   "display_name": "Python 3 (ipykernel)",
   "language": "python",
   "name": "python3"
  },
  "language_info": {
   "codemirror_mode": {
    "name": "ipython",
    "version": 3
   },
   "file_extension": ".py",
   "mimetype": "text/x-python",
   "name": "python",
   "nbconvert_exporter": "python",
   "pygments_lexer": "ipython3",
   "version": "3.8.13"
  }
 },
 "nbformat": 4,
 "nbformat_minor": 5
}
