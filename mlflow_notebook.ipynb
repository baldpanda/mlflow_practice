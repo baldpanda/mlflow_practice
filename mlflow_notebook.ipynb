{
 "cells": [
  {
   "cell_type": "code",
   "execution_count": null,
   "id": "898976df-639e-48c0-a20b-a70d2a3a8b82",
   "metadata": {},
   "outputs": [],
   "source": [
    "import mlflow\n",
    "import os\n",
    "import sqlalchemy\n",
    "\n",
    "from high_revenue_predictor import HighRevenuePredictor"
   ]
  },
  {
   "cell_type": "code",
   "execution_count": null,
   "id": "b195aa26-ff5a-450f-922a-c26b17c806bf",
   "metadata": {},
   "outputs": [],
   "source": [
    "mlflow.set_tracking_uri(\"http://localhost:5000\")"
   ]
  },
  {
   "cell_type": "code",
   "execution_count": null,
   "id": "dd0d7660-a1ee-4e7f-a32d-ebb62ecc3761",
   "metadata": {},
   "outputs": [],
   "source": [
    "mlflow.set_experiment(\"Revenue Predictor\")"
   ]
  },
  {
   "cell_type": "code",
   "execution_count": null,
   "id": "9400373e-9923-4211-be98-80057e4d99d5",
   "metadata": {},
   "outputs": [],
   "source": [
    "registered_model_name = \"high_revenue_predictor\""
   ]
  },
  {
   "cell_type": "code",
   "execution_count": null,
   "id": "69579127-b712-42d0-aa39-a0fccc79189b",
   "metadata": {},
   "outputs": [],
   "source": [
    "artifacts = {\"high_revenue_predictor\" : \"./model/high-revenue-prediction.pmml\"}"
   ]
  },
  {
   "cell_type": "code",
   "execution_count": null,
   "id": "bd335e2c-8d33-42d4-a01e-2f7c889c123f",
   "metadata": {},
   "outputs": [],
   "source": [
    "with mlflow.start_run():\n",
    "    mlflow.log_param(\"type\", \"random_forest\")\n",
    "    mlflow.log_param(\"trees\", \"100\")\n",
    "    mlflow.log_param(\"min_samples\", \"1\")\n",
    "    mlflow.log_metric(\"accuracy\", 0.767)\n",
    "    mlflow.log_artifact(\"./data/Orders_by_customer.csv\")\n",
    "    mlflow.log_artifact(\"./model/high-revenue-prediction.pmml\")\n",
    "    # registered_model_name registers model to registry\n",
    "    mlflow.pyfunc.log_model(\"model\", python_model=HighRevenuePredictor(), artifacts=artifacts, pip_requirements=\"requirements.txt\", \n",
    "                            registered_model_name=registered_model_name)"
   ]
  },
  {
   "cell_type": "markdown",
   "id": "3783233f-c97d-4da7-9455-702d5291a154",
   "metadata": {},
   "source": [
    "### Transition Model into Staging"
   ]
  },
  {
   "cell_type": "code",
   "execution_count": null,
   "id": "82045e82-5eca-4ad6-8e18-214c932a5419",
   "metadata": {},
   "outputs": [],
   "source": [
    "client = mlflow.tracking.MlflowClient()\n",
    "client.transition_model_version_stage(name=registered_model_name, version=1, stage=\"Staging\")"
   ]
  },
  {
   "cell_type": "code",
   "execution_count": null,
   "id": "a2c80690-41ec-4809-a0f6-105b7124f082",
   "metadata": {},
   "outputs": [],
   "source": []
  }
 ],
 "metadata": {
  "kernelspec": {
   "display_name": "Python 3 (ipykernel)",
   "language": "python",
   "name": "python3"
  },
  "language_info": {
   "codemirror_mode": {
    "name": "ipython",
    "version": 3
   },
   "file_extension": ".py",
   "mimetype": "text/x-python",
   "name": "python",
   "nbconvert_exporter": "python",
   "pygments_lexer": "ipython3",
   "version": "3.8.13"
  }
 },
 "nbformat": 4,
 "nbformat_minor": 5
}
