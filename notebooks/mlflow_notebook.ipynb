{
 "cells": [
  {
   "cell_type": "code",
   "execution_count": null,
   "id": "898976df-639e-48c0-a20b-a70d2a3a8b82",
   "metadata": {},
   "outputs": [],
   "source": [
    "import mlflow\n",
    "import os"
   ]
  },
  {
   "cell_type": "code",
   "execution_count": null,
   "id": "dd0d7660-a1ee-4e7f-a32d-ebb62ecc3761",
   "metadata": {},
   "outputs": [],
   "source": [
    "mlflow.set_experiment(\"Revenue Predictor\")"
   ]
  },
  {
   "cell_type": "code",
   "execution_count": null,
   "id": "bd335e2c-8d33-42d4-a01e-2f7c889c123f",
   "metadata": {},
   "outputs": [],
   "source": [
    "with mlflow.start_run():\n",
    "    mlflow.log_param(\"type\", \"random_forest\")\n",
    "    mlflow.log_param(\"trees\", \"100\")\n",
    "    mlflow.log_param(\"min_samples\", \"1\")\n",
    "    mlflow.log_metric(\"accuracy\", \"0.767\")\n",
    "    mlflow.log_artifact(\"../data/Orders_by_customer.csv\")\n",
    "    mlflow.log_artifact(\"../model/high-revenue-prediction.pmml\")"
   ]
  },
  {
   "cell_type": "code",
   "execution_count": null,
   "id": "6c496a99-ecaf-4a53-92f7-8274da76721e",
   "metadata": {},
   "outputs": [],
   "source": []
  }
 ],
 "metadata": {
  "kernelspec": {
   "display_name": "Python 3 (ipykernel)",
   "language": "python",
   "name": "python3"
  },
  "language_info": {
   "codemirror_mode": {
    "name": "ipython",
    "version": 3
   },
   "file_extension": ".py",
   "mimetype": "text/x-python",
   "name": "python",
   "nbconvert_exporter": "python",
   "pygments_lexer": "ipython3",
   "version": "3.8.12"
  }
 },
 "nbformat": 4,
 "nbformat_minor": 5
}
